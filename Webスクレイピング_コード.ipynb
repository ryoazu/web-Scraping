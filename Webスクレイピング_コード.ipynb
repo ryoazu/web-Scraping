from bs4 import BeautifulSoup 
import requests
import numpy as np
import pandas as pd
import csv
import codecs
pd.set_option('display.max_rows',None)
%matplotlib inline

load_url = "URLを記載"
html = requests.get(load_url)
soup = BeautifulSoup(html.content, "html.parser")

item=soup.find_all(class_="comment-item")
time = soup.find_all('a', {"rel":'nofollow'})
plus = soup.find_all(class_="icon-rate-wrap-plus")
minus = soup.find_all(class_="icon-rate-wrap-minus")


itemlist = [x.text for x in item]
timelist = [x.text for x in time]
pluslist = [x.text for x in plus]
minuslist = [x.text for x in minus]


s = pd.Series(itemlist)
df = s.str.split('\n', expand=True)

with open('Web0918_79.csv', 'w', newline='') as csv_file:
    fieldnames = ['text', 'time', 'plus','minus']
    writer = csv.DictWriter(csv_file, fieldnames=fieldnames)
    writer.writeheader()
    for r_text,r_time,r_plus,r_minus in zip(df[4],timelist,pluslist,minuslist) :
        s_text,s_time,s_minus,s_plus = r_text.strip(),r_time.strip(),r_plus.strip(),r_minus.strip()
        t_text,t_time,t_minus,t_plus = s_text.replace(' ',''),s_time.replace(' ',''),s_plus.replace(' ',''),s_minus.replace(' ','')
        writer.writerow({'text': str(t_text), 'time':str(t_time) , 'plus': str(t_plus),'minus':str(t_minus)})
